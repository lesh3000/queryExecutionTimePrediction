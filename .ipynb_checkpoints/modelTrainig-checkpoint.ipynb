{
 "cells": [
  {
   "cell_type": "markdown",
   "metadata": {
    "id": "BzT54VTlqdDr"
   },
   "source": [
    "# Model Trainig\n",
    "## SQL Analysis Problem"
   ]
  },
  {
   "cell_type": "code",
   "execution_count": null,
   "metadata": {
    "colab": {
     "base_uri": "https://localhost:8080/"
    },
    "id": "l8MuPiiFdMiv",
    "outputId": "c874c8b1-0dca-4bca-8813-ed6d63b6be52"
   },
   "outputs": [
    {
     "name": "stdout",
     "output_type": "stream",
     "text": [
      "--2021-03-20 09:33:43--  https://github.com/claranet-coast/sql-analytics-problem/archive/master.zip\n",
      "Resolving github.com (github.com)... 140.82.114.4\n",
      "Connecting to github.com (github.com)|140.82.114.4|:443... connected.\n",
      "HTTP request sent, awaiting response... 302 Found\n",
      "Location: https://codeload.github.com/claranet-coast/sql-analytics-problem/zip/master [following]\n",
      "--2021-03-20 09:33:43--  https://codeload.github.com/claranet-coast/sql-analytics-problem/zip/master\n",
      "Resolving codeload.github.com (codeload.github.com)... 140.82.112.9\n",
      "Connecting to codeload.github.com (codeload.github.com)|140.82.112.9|:443... connected.\n",
      "HTTP request sent, awaiting response... 200 OK\n",
      "Length: unspecified [application/zip]\n",
      "Saving to: ‘master.zip’\n",
      "\n",
      "master.zip              [ <=>                ]   1020K  --.-KB/s    in 0.1s    \n",
      "\n",
      "2021-03-20 09:33:44 (8.30 MB/s) - ‘master.zip’ saved [1044652]\n",
      "\n",
      "Archive:  master.zip\n",
      "6fa5ffb3f77882283c2bcd2c2545fb36dbefffdc\n",
      "   creating: /project/sql-analytics-problem-master/\n",
      "  inflating: /project/sql-analytics-problem-master/README.md  \n",
      "   creating: /project/sql-analytics-problem-master/data/\n",
      "  inflating: /project/sql-analytics-problem-master/data/general_log.json  \n",
      "  inflating: /project/sql-analytics-problem-master/data/slow_log.json  \n",
      "  inflating: /project/sql-analytics-problem-master/data/tpch.sql  \n",
      "   creating: /project/sql-analytics-problem-master/model/\n",
      "  inflating: /project/sql-analytics-problem-master/model/Dockerfile  \n",
      "   creating: /project/sql-analytics-problem-master/model/artifacts/\n",
      "  inflating: /project/sql-analytics-problem-master/model/artifacts/ScoringService.dl  \n",
      "  inflating: /project/sql-analytics-problem-master/model/artifacts/input_scaler.pkl  \n",
      "  inflating: /project/sql-analytics-problem-master/model/artifacts/model.h5  \n",
      "  inflating: /project/sql-analytics-problem-master/model/artifacts/output_scaler.pkl  \n",
      "  inflating: /project/sql-analytics-problem-master/model/artifacts/vectorizer.pkl  \n",
      "  inflating: /project/sql-analytics-problem-master/model/main.py  \n",
      " extracting: /project/sql-analytics-problem-master/model/requirements.txt  \n",
      "\u001b[K     |████████████████████████████████| 3.4MB 22.0MB/s \n",
      "\u001b[K     |████████████████████████████████| 1.1MB 18.2MB/s \n",
      "\u001b[K     |████████████████████████████████| 706kB 55.6MB/s \n",
      "\u001b[K     |████████████████████████████████| 51kB 8.9MB/s \n",
      "\u001b[K     |████████████████████████████████| 645kB 45.4MB/s \n",
      "\u001b[K     |████████████████████████████████| 358kB 56.6MB/s \n",
      "\u001b[K     |████████████████████████████████| 102kB 13.2MB/s \n",
      "\u001b[K     |████████████████████████████████| 1.2MB 55.8MB/s \n",
      "\u001b[K     |████████████████████████████████| 174kB 60.0MB/s \n",
      "\u001b[K     |████████████████████████████████| 37.6MB 90kB/s \n",
      "\u001b[?25h  Building wheel for seqeval (setup.py) ... \u001b[?25l\u001b[?25hdone\n",
      "  Building wheel for py-cpuinfo (setup.py) ... \u001b[?25l\u001b[?25hdone\n"
     ]
    }
   ],
   "source": [
    "\n",
    "!wget https://github.com/claranet-coast/sql-analytics-problem/archive/master.zip\n",
    "!unzip master.zip -d /project\n",
    "!pip install -q tensorflow-text\n",
    "!pip install -q tf-models-official"
   ]
  },
  {
   "cell_type": "code",
   "execution_count": 13,
   "metadata": {
    "id": "gJr_9dXGpJ05"
   },
   "outputs": [],
   "source": [
    "import pandas as pd\n",
    "import json\n",
    "import os\n",
    "import re\n",
    "import numpy as np\n",
    "import tensorflow as tf\n",
    "import tensorflow_hub as hub\n",
    "import tensorflow_text as text\n",
    "\n",
    "from sklearn.model_selection import train_test_split\n",
    "from gensim.models import FastText\n",
    "from keras.preprocessing.text import Tokenizer\n",
    "from keras.preprocessing.sequence import pad_sequences\n",
    "from tensorflow.keras.layers import GRU, Dense, Embedding,concatenate, Input, Dropout, Activation, GlobalAveragePooling1D, Bidirectional, GlobalMaxPooling1D\n",
    "from tensorflow.keras.models import Sequential,Model\n",
    "from sklearn.feature_extraction.text import CountVectorizer\n",
    "from sklearn.svm import SVR\n",
    "from sklearn.preprocessing import StandardScaler\n",
    "from sklearn.model_selection import cross_val_score\n",
    "import matplotlib.pyplot as plt\n",
    "from keras import backend as K\n",
    "from google.colab import files\n",
    "from pickle import dump\n",
    "import statistics"
   ]
  },
  {
   "cell_type": "markdown",
   "metadata": {
    "id": "jc8GLJFNqtyJ"
   },
   "source": [
    "## Data Preprocessing\n",
    "- remove text between */  */\n",
    "- remove new line dedicated chars\n",
    "- replace date, time, id and number dedicated strings by corresponding tags\n",
    "\n",
    "The task covers regression analysis.<br>\n",
    "The values of target variable is too small and eventually may lead to negative predictions.<br>\n",
    "To avoid that logarithme transormation has been applied on the target variable. <br>\n",
    "Predicted values are converted back to real scale using exponent function."
   ]
  },
  {
   "cell_type": "code",
   "execution_count": null,
   "metadata": {
    "colab": {
     "base_uri": "https://localhost:8080/"
    },
    "id": "nOdu7kMFgbEA",
    "outputId": "7d45e589-e40a-4b7b-a129-55f8237065e2"
   },
   "outputs": [
    {
     "data": {
      "text/plain": [
       "0        set net_write_timeout=600\n",
       "1                    show warnings\n",
       "2                    show warnings\n",
       "3                select database()\n",
       "4     set sql_select_limit=default\n",
       "Name: sql_text, dtype: object"
      ]
     },
     "execution_count": 3,
     "metadata": {
      "tags": []
     },
     "output_type": "execute_result"
    }
   ],
   "source": [
    "def clean(s):\n",
    "    s= re.sub('\\s+', ' ', s)\n",
    "    try:\n",
    "        s=re.search(r'(.*)/(.*)',s).group(2)\n",
    "\n",
    "    except:\n",
    "        pass\n",
    "    return s.lower()\n",
    "\n",
    "def extendedClean(s):\n",
    "    s= re.sub('\\d{4}-\\d{2}-\\d{2}',\"|date|\",s)\n",
    "    s= re.sub('\\d{2}:\\d{2}:\\d{2}',\"|time|\",s)\n",
    "    s= re.sub('\\d{4}-\\d{2}-\\d{2} \\d{2}:\\d{2}:\\d{2}',\"|datetime|\",s)\n",
    "    s= re.sub('\\d{13}',\"|datetime|\",s)\n",
    "    s= re.sub('\\d{8,12}',\"|id|\",s)\n",
    "    s= re.sub('\\d{2,7}',\"|number|\",s)\n",
    "    return s\n",
    "\n",
    "with open('/project/sql-analytics-problem-master/data/slow_log.json') as json_file:\n",
    "    data = json.load(json_file)\n",
    "logData=pd.json_normalize(data)\n",
    "preprocessed=logData['sql_text'].map(lambda x: clean(x))\n",
    "preprocessed.head(5)"
   ]
  },
  {
   "cell_type": "code",
   "execution_count": null,
   "metadata": {
    "colab": {
     "base_uri": "https://localhost:8080/"
    },
    "id": "cxjGVu8V1F2n",
    "outputId": "c05ad83b-6f3e-4d8e-f5b4-4e3d3252fb55"
   },
   "outputs": [
    {
     "data": {
      "text/plain": [
       "count    15688.000000\n",
       "mean        -4.772627\n",
       "std          3.904049\n",
       "min        -11.869600\n",
       "25%         -7.724201\n",
       "50%         -6.637348\n",
       "75%         -0.617493\n",
       "max          2.404548\n",
       "Name: query_time, dtype: float64"
      ]
     },
     "execution_count": 4,
     "metadata": {
      "tags": []
     },
     "output_type": "execute_result"
    }
   ],
   "source": [
    "y=logData['query_time'].map(lambda x: float(str(x)[6:]))\n",
    "y.describe()\n",
    "y= np.log(y)\n",
    "y.describe()"
   ]
  },
  {
   "cell_type": "markdown",
   "metadata": {
    "id": "rZJsLZIB2d4C"
   },
   "source": [
    "# Support Vector Regressor\n",
    "- Count word vectorizer\n",
    "- SVR\n",
    "- Crossvalidation"
   ]
  },
  {
   "cell_type": "code",
   "execution_count": null,
   "metadata": {
    "colab": {
     "base_uri": "https://localhost:8080/"
    },
    "id": "uAjFeKBxzACS",
    "outputId": "bf4986e7-0c07-457d-e7c2-ab2d83f44f29"
   },
   "outputs": [
    {
     "name": "stdout",
     "output_type": "stream",
     "text": [
      " set net_write_timeout = |number|\n"
     ]
    }
   ],
   "source": [
    "prep= preprocessed.map(lambda x: extendedClean(x))\n",
    "prep=prep.map(lambda x: x.replace(\",\", \" , \").replace(\"(\",\" ( \").replace(\")\",\" ) \").replace(\"=\",\" = \"))\n",
    "print(prep[0])\n",
    "vectorizer = CountVectorizer(analyzer='word', ngram_range=(1,1))\n",
    "X = vectorizer.fit_transform(prep)"
   ]
  },
  {
   "cell_type": "code",
   "execution_count": null,
   "metadata": {
    "colab": {
     "base_uri": "https://localhost:8080/"
    },
    "id": "BZxUV1ib0K2A",
    "outputId": "02880e18-b013-4a75-f44d-ece820601e67"
   },
   "outputs": [
    {
     "data": {
      "text/plain": [
       "array([-2.60929857, -0.48768693, -1.02234861, -0.7812262 , -0.7548222 ])"
      ]
     },
     "execution_count": 248,
     "metadata": {
      "tags": []
     },
     "output_type": "execute_result"
    }
   ],
   "source": [
    "scaler=StandardScaler(with_mean=False)\n",
    "X=scaler.fit_transform(X)\n",
    "clf=SVR(C=1.0, epsilon=0.2)\n",
    "\n",
    "\n",
    "scores = cross_val_score(clf, X, y, cv=5, scoring=\"neg_mean_squared_error\")\n",
    "scores"
   ]
  },
  {
   "cell_type": "code",
   "execution_count": 16,
   "metadata": {
    "scrolled": true
   },
   "outputs": [
    {
     "name": "stdout",
     "output_type": "stream",
     "text": [
      "Average MSE of SVR Model: -1.131076502\n"
     ]
    }
   ],
   "source": [
    "print(\"Average MSE of SVR Model: \" + str(statistics.mean([-2.60929857, -0.48768693, -1.02234861, -0.7812262 , -0.7548222 ])))\n"
   ]
  },
  {
   "cell_type": "code",
   "execution_count": null,
   "metadata": {
    "id": "YtVSEifOlumd"
   },
   "outputs": [],
   "source": [
    "# custom keras metric to calculate MSE on real data\n",
    "def metr(y_true, y_pred):\n",
    "  '''custom MSE to monitor real data'''\n",
    "  return K.mean(K.square(K.exp(y_pred)- K.exp(y_true)))\n",
    "\n",
    "es=tf.keras.callbacks.EarlyStopping(monitor='val_loss',patience=5, restore_best_weights=True)\n",
    "epochs = 50\n"
   ]
  },
  {
   "cell_type": "markdown",
   "metadata": {
    "id": "DZI_57w5mZoe"
   },
   "source": [
    "## BERT model training\n",
    "\n",
    "BERT model requires row input "
   ]
  },
  {
   "cell_type": "code",
   "execution_count": null,
   "metadata": {
    "id": "O-rGzBoTH2nc"
   },
   "outputs": [],
   "source": [
    "#for bert\n",
    "X_train, X_test, y_train, y_test = train_test_split(preprocessed, y, test_size=0.25, random_state=42)"
   ]
  },
  {
   "cell_type": "code",
   "execution_count": null,
   "metadata": {
    "id": "lSPyajWHwTs2"
   },
   "outputs": [],
   "source": [
    "bert_model = hub.KerasLayer('https://tfhub.dev/tensorflow/bert_en_uncased_L-12_H-768_A-12/3',name=\"preprocess\")\n",
    "bert_preprocess = hub.KerasLayer('https://tfhub.dev/tensorflow/bert_en_uncased_preprocess/3',name=\"network\")"
   ]
  },
  {
   "cell_type": "code",
   "execution_count": null,
   "metadata": {
    "colab": {
     "base_uri": "https://localhost:8080/"
    },
    "id": "cAX95PyQw7uF",
    "outputId": "e925143c-cf04-41d4-f775-b5ea39bfca88"
   },
   "outputs": [
    {
     "name": "stdout",
     "output_type": "stream",
     "text": [
      "Model: \"model_1\"\n",
      "__________________________________________________________________________________________________\n",
      "Layer (type)                    Output Shape         Param #     Connected to                     \n",
      "==================================================================================================\n",
      "text (InputLayer)               [(None,)]            0                                            \n",
      "__________________________________________________________________________________________________\n",
      "network (KerasLayer)            {'input_word_ids': ( 0           text[0][0]                       \n",
      "__________________________________________________________________________________________________\n",
      "preprocess (KerasLayer)         {'encoder_outputs':  109482241   network[1][0]                    \n",
      "                                                                 network[1][1]                    \n",
      "                                                                 network[1][2]                    \n",
      "__________________________________________________________________________________________________\n",
      "dropout_1 (Dropout)             (None, 768)          0           preprocess[1][13]                \n",
      "__________________________________________________________________________________________________\n",
      "output (Dense)                  (None, 1)            769         dropout_1[0][0]                  \n",
      "==================================================================================================\n",
      "Total params: 109,483,010\n",
      "Trainable params: 769\n",
      "Non-trainable params: 109,482,241\n",
      "__________________________________________________________________________________________________\n"
     ]
    }
   ],
   "source": [
    "def build_bert():\n",
    "  text_input = Input(shape=(), dtype=tf.string, name='text')\n",
    "  preprocessing_layer = bert_preprocess\n",
    "  encoder_inputs = preprocessing_layer(text_input)\n",
    "  encoder = bert_model\n",
    "  outputs = encoder(encoder_inputs)\n",
    "  net = outputs['pooled_output']\n",
    "  #net = tf.keras.layers.Dense(128,activation=\"relu\", name='net')(net)\n",
    "  net = Dropout(0.2)(net)\n",
    "  net = Dense(1, activation=\"linear\", name='output')(net)\n",
    "  return Model(text_input, net)\n",
    "\n",
    "bert = build_bert()\n",
    "bert.summary()\n",
    "bert.compile(optimizer=tf.optimizers.Adam(learning_rate=0.001),loss=\"mse\",metrics=[metr])\n"
   ]
  },
  {
   "cell_type": "code",
   "execution_count": null,
   "metadata": {
    "colab": {
     "base_uri": "https://localhost:8080/"
    },
    "id": "SxyZ7lFImSLr",
    "outputId": "a68bdf39-c585-43f1-f838-63778ea7ebf2"
   },
   "outputs": [
    {
     "name": "stdout",
     "output_type": "stream",
     "text": [
      "Epoch 1/50\n",
      "368/368 [==============================] - 160s 410ms/step - loss: 8.1320 - metr: 1.5036 - val_loss: 2.8952 - val_metr: 1.4565\n",
      "Epoch 2/50\n",
      "368/368 [==============================] - 158s 430ms/step - loss: 3.1390 - metr: 1.7462 - val_loss: 2.2250 - val_metr: 1.5218\n",
      "Epoch 3/50\n",
      "368/368 [==============================] - 162s 440ms/step - loss: 2.6812 - metr: 2.0797 - val_loss: 1.8976 - val_metr: 1.4636\n",
      "Epoch 4/50\n",
      "368/368 [==============================] - 163s 442ms/step - loss: 2.3380 - metr: 1.9136 - val_loss: 1.6980 - val_metr: 1.3553\n",
      "Epoch 5/50\n",
      "368/368 [==============================] - 163s 444ms/step - loss: 2.1009 - metr: 1.9804 - val_loss: 1.5616 - val_metr: 1.2396\n",
      "Epoch 6/50\n",
      "368/368 [==============================] - 163s 443ms/step - loss: 1.9770 - metr: 1.8911 - val_loss: 1.4817 - val_metr: 1.2465\n",
      "Epoch 7/50\n",
      "368/368 [==============================] - 163s 444ms/step - loss: 1.9064 - metr: 1.8668 - val_loss: 1.4440 - val_metr: 1.1602\n",
      "Epoch 8/50\n",
      "368/368 [==============================] - 163s 443ms/step - loss: 1.8025 - metr: 2.0429 - val_loss: 1.3534 - val_metr: 1.1270\n",
      "Epoch 9/50\n",
      "368/368 [==============================] - 163s 442ms/step - loss: 1.8026 - metr: 1.8508 - val_loss: 1.3656 - val_metr: 1.2116\n",
      "Epoch 10/50\n",
      "368/368 [==============================] - 163s 443ms/step - loss: 1.7909 - metr: 2.2863 - val_loss: 1.3831 - val_metr: 1.0901\n",
      "Epoch 11/50\n",
      "368/368 [==============================] - 164s 445ms/step - loss: 1.7928 - metr: 1.7071 - val_loss: 1.3113 - val_metr: 1.0544\n",
      "Epoch 12/50\n",
      "368/368 [==============================] - 163s 444ms/step - loss: 1.7244 - metr: 1.7220 - val_loss: 1.2444 - val_metr: 0.9652\n",
      "Epoch 13/50\n",
      "368/368 [==============================] - 163s 442ms/step - loss: 1.7699 - metr: 2.1542 - val_loss: 1.2286 - val_metr: 0.9593\n",
      "Epoch 14/50\n",
      "368/368 [==============================] - 162s 440ms/step - loss: 1.7285 - metr: 1.8819 - val_loss: 1.3215 - val_metr: 0.9658\n",
      "Epoch 15/50\n",
      "368/368 [==============================] - 162s 441ms/step - loss: 1.7291 - metr: 1.8235 - val_loss: 1.2183 - val_metr: 0.9315\n",
      "Epoch 16/50\n",
      "368/368 [==============================] - 163s 443ms/step - loss: 1.7629 - metr: 1.8076 - val_loss: 1.2107 - val_metr: 0.9404\n",
      "Epoch 17/50\n",
      "368/368 [==============================] - 162s 440ms/step - loss: 1.7319 - metr: 1.9103 - val_loss: 1.1973 - val_metr: 0.9023\n",
      "Epoch 18/50\n",
      "368/368 [==============================] - 162s 440ms/step - loss: 1.7088 - metr: 1.9320 - val_loss: 1.1880 - val_metr: 0.8925\n",
      "Epoch 19/50\n",
      "368/368 [==============================] - 162s 442ms/step - loss: 1.7115 - metr: 1.8831 - val_loss: 1.2215 - val_metr: 0.9122\n",
      "Epoch 20/50\n",
      "368/368 [==============================] - 162s 440ms/step - loss: 1.7098 - metr: 1.7732 - val_loss: 1.2306 - val_metr: 0.8958\n",
      "Epoch 21/50\n",
      "368/368 [==============================] - 162s 442ms/step - loss: 1.7048 - metr: 1.7671 - val_loss: 1.1869 - val_metr: 0.8643\n",
      "Epoch 22/50\n",
      "368/368 [==============================] - 163s 443ms/step - loss: 1.7225 - metr: 2.4939 - val_loss: 1.2404 - val_metr: 0.8366\n",
      "Epoch 23/50\n",
      "368/368 [==============================] - 163s 442ms/step - loss: 1.7354 - metr: 1.6788 - val_loss: 1.1848 - val_metr: 0.8948\n",
      "Epoch 24/50\n",
      "368/368 [==============================] - 162s 441ms/step - loss: 1.6799 - metr: 1.9525 - val_loss: 1.1811 - val_metr: 0.8778\n",
      "Epoch 25/50\n",
      "368/368 [==============================] - 163s 444ms/step - loss: 1.7635 - metr: 1.6928 - val_loss: 1.1726 - val_metr: 0.8615\n",
      "Epoch 26/50\n",
      "368/368 [==============================] - 163s 443ms/step - loss: 1.6810 - metr: 2.1006 - val_loss: 1.2158 - val_metr: 0.8744\n",
      "Epoch 27/50\n",
      "368/368 [==============================] - 164s 445ms/step - loss: 1.6666 - metr: 1.7972 - val_loss: 1.1614 - val_metr: 0.8573\n",
      "Epoch 28/50\n",
      "368/368 [==============================] - 163s 443ms/step - loss: 1.6632 - metr: 1.9643 - val_loss: 1.1609 - val_metr: 0.8546\n",
      "Epoch 29/50\n",
      "368/368 [==============================] - 163s 444ms/step - loss: 1.6948 - metr: 2.0690 - val_loss: 1.1915 - val_metr: 0.8159\n",
      "Epoch 30/50\n",
      "368/368 [==============================] - 163s 444ms/step - loss: 1.6912 - metr: 2.1173 - val_loss: 1.1863 - val_metr: 0.8247\n",
      "Epoch 31/50\n",
      "368/368 [==============================] - 163s 444ms/step - loss: 1.6626 - metr: 2.3253 - val_loss: 1.1783 - val_metr: 0.8899\n",
      "Epoch 32/50\n",
      "368/368 [==============================] - 164s 445ms/step - loss: 1.6914 - metr: 1.7326 - val_loss: 1.1525 - val_metr: 0.8404\n",
      "Epoch 33/50\n",
      "368/368 [==============================] - 162s 442ms/step - loss: 1.7177 - metr: 1.9664 - val_loss: 1.1738 - val_metr: 0.8947\n",
      "Epoch 34/50\n",
      "368/368 [==============================] - 162s 440ms/step - loss: 1.7088 - metr: 2.1911 - val_loss: 1.1583 - val_metr: 0.8280\n",
      "Epoch 35/50\n",
      "368/368 [==============================] - 162s 439ms/step - loss: 1.7013 - metr: 1.8844 - val_loss: 1.1751 - val_metr: 0.8271\n",
      "Epoch 36/50\n",
      "368/368 [==============================] - 161s 439ms/step - loss: 1.7002 - metr: 1.8126 - val_loss: 1.2252 - val_metr: 0.9722\n",
      "Epoch 37/50\n",
      "368/368 [==============================] - 161s 438ms/step - loss: 1.7371 - metr: 2.2867 - val_loss: 1.1645 - val_metr: 0.8195\n"
     ]
    }
   ],
   "source": [
    "hist= bert.fit(x=X_train,y=y_train,validation_data=(X_test,y_test),epochs=epochs, callbacks=[es])"
   ]
  },
  {
   "cell_type": "code",
   "execution_count": null,
   "metadata": {
    "colab": {
     "base_uri": "https://localhost:8080/",
     "height": 295
    },
    "id": "8neVVdJSIlGQ",
    "outputId": "6c9acf88-a5e3-4fe4-b68a-9d960b187952"
   },
   "outputs": [
    {
     "data": {
      "image/png": "[encoded data removed]",
      "text/plain": [
       "<Figure size 1080x288 with 2 Axes>"
      ]
     },
     "metadata": {
      "needs_background": "light",
      "tags": []
     },
     "output_type": "display_data"
    }
   ],
   "source": [
    "fig = plt.figure(figsize=(15,4))\n",
    "ax1 = plt.subplot2grid((1,2),(0,0))\n",
    "ax1.plot(hist.history['metr'])\n",
    "ax1.plot(hist.history['loss'])\n",
    "ax1.set_title('Model training')\n",
    "ax1.set_ylabel('MSE')\n",
    "ax1.set_xlabel('epoch')\n",
    "ax1.legend(['Real', 'Log'], loc='upper left')\n",
    "\n",
    "ax1 = plt.subplot2grid((1,2),(0,1))\n",
    "ax1.plot(hist.history['val_metr'])\n",
    "ax1.plot(hist.history['val_loss'])\n",
    "ax1.set_title('Model validation')\n",
    "ax1.set_ylabel('MSE')\n",
    "ax1.set_xlabel('epoch')\n",
    "ax1.legend(['Real', 'Log'], loc='upper left')\n",
    "plt.show()"
   ]
  },
  {
   "cell_type": "markdown",
   "metadata": {
    "id": "idIuYYzkmy0A"
   },
   "source": [
    "## RNN + FastText embeddings training\n",
    "\n",
    "- FastText embeddings\n",
    "- RNN model\n",
    "\n",
    "Additional preprocessing to keep  , ( ) = chars as separate words"
   ]
  },
  {
   "cell_type": "code",
   "execution_count": null,
   "metadata": {
    "colab": {
     "base_uri": "https://localhost:8080/"
    },
    "id": "93Y2u1_Z6TJY",
    "outputId": "d89f04af-d3f4-462b-f6ab-1d7fc072f79b"
   },
   "outputs": [
    {
     "data": {
      "text/plain": [
       "[['ping'],\n",
       " ['ping'],\n",
       " ['select', '@@global.read_only'],\n",
       " ['select', '1'],\n",
       " ['select', 'value', 'from', 'mysql.rds_heartbeat2']]"
      ]
     },
     "execution_count": 5,
     "metadata": {
      "tags": []
     },
     "output_type": "execute_result"
    }
   ],
   "source": [
    "maxlen= max([len(i.split()) for i in preprocessed])\n",
    "#extendedClean\n",
    "addPreproc= preprocessed.map(lambda x: extendedClean(x))\n",
    "addPreproc=addPreproc.map(lambda x: x.replace(\",\", \" , \").replace(\"(\",\" ( \").replace(\")\",\" ) \").replace(\"=\",\" = \"))\n",
    "tokenized=[tf.keras.preprocessing.text.text_to_word_sequence(i,filters='') for i in addPreproc]\n",
    "tokenized[10:15]\n"
   ]
  },
  {
   "cell_type": "code",
   "execution_count": null,
   "metadata": {
    "colab": {
     "base_uri": "https://localhost:8080/"
    },
    "id": "DCaVhh_cLXsq",
    "outputId": "a067bc85-5fb7-46d6-d773-fda2503739d1"
   },
   "outputs": [
    {
     "name": "stdout",
     "output_type": "stream",
     "text": [
      "FastText(vocab=658, size=300, alpha=0.025)\n"
     ]
    }
   ],
   "source": [
    "modEmbed = FastText(tokenized, size=300, window=5, min_count=1, workers=4, word_ngrams=1)\n",
    "#words = list(modEmbed.wv.vocab)\n",
    "print(modEmbed)\n",
    "#modEmbed.train(prepped,total_examples=len(prepped),epochs=3, verbose=1)\n",
    "embedding_matrix = np.zeros((len(modEmbed.wv.vocab) + 1, 300))\n",
    "for i, vec in enumerate(modEmbed.wv.vectors):\n",
    "    embedding_matrix[i] = vec\n"
   ]
  },
  {
   "cell_type": "code",
   "execution_count": null,
   "metadata": {
    "colab": {
     "base_uri": "https://localhost:8080/"
    },
    "id": "SsSwZtCULtxa",
    "outputId": "26de95d1-1adb-4296-d363-7d0934c15494"
   },
   "outputs": [
    {
     "name": "stdout",
     "output_type": "stream",
     "text": [
      " set net_write_timeout = |number|\n",
      "[139, 320, 312, 303, 7]\n",
      "(15688, 244)\n",
      "[  0   0   0   0   0   0   0   0   0   0   0   0   0   0   0   0   0   0\n",
      "   0   0   0   0   0   0   0   0   0   0   0   0   0   0   0   0   0   0\n",
      "   0   0   0   0   0   0   0   0   0   0   0   0   0   0   0   0   0   0\n",
      "   0   0   0   0   0   0   0   0   0   0   0   0   0   0   0   0   0   0\n",
      "   0   0   0   0   0   0   0   0   0   0   0   0   0   0   0   0   0   0\n",
      "   0   0   0   0   0   0   0   0   0   0   0   0   0   0   0   0   0   0\n",
      "   0   0   0   0   0   0   0   0   0   0   0   0   0   0   0   0   0   0\n",
      "   0   0   0   0   0   0   0   0   0   0   0   0   0   0   0   0   0   0\n",
      "   0   0   0   0   0   0   0   0   0   0   0   0   0   0   0   0   0   0\n",
      "   0   0   0   0   0   0   0   0   0   0   0   0   0   0   0   0   0   0\n",
      "   0   0   0   0   0   0   0   0   0   0   0   0   0   0   0   0   0   0\n",
      "   0   0   0   0   0   0   0   0   0   0   0   0   0   0   0   0   0   0\n",
      "   0   0   0   0   0   0   0   0   0   0   0   0   0   0   0   0   0   0\n",
      "   0   0   0   0   0 139 320 312 303   7]\n"
     ]
    }
   ],
   "source": [
    "features = embedding_matrix.shape[0]\n",
    "tokenizer = Tokenizer(num_words = features)\n",
    "# fit the tokenizer on our text\n",
    "\n",
    "tokenizer.fit_on_texts(addPreproc)\n",
    "\n",
    "print(addPreproc[0])\n",
    "# get all words that the tokenizer knows\n",
    "word_index = tokenizer.word_index\n",
    "\n",
    "# put the tokens in a matrix\n",
    "X = tokenizer.texts_to_sequences(addPreproc)\n",
    "print(X[0])\n",
    "X = pad_sequences(X)\n",
    "print(X.shape)\n",
    "print(X[0])\n",
    "\n"
   ]
  },
  {
   "cell_type": "code",
   "execution_count": null,
   "metadata": {
    "id": "UOkCwqtIoIKe"
   },
   "outputs": [],
   "source": [
    "X_train, X_test, y_train, y_test = train_test_split(X, y, test_size=0.25, random_state=42)\n"
   ]
  },
  {
   "cell_type": "code",
   "execution_count": null,
   "metadata": {
    "colab": {
     "base_uri": "https://localhost:8080/"
    },
    "id": "TY-PnTtTnxk-",
    "outputId": "6186e5c6-18aa-4c15-f621-59ea4fecbf90"
   },
   "outputs": [
    {
     "name": "stdout",
     "output_type": "stream",
     "text": [
      "Model: \"model\"\n",
      "_________________________________________________________________\n",
      "Layer (type)                 Output Shape              Param #   \n",
      "=================================================================\n",
      "input_1 (InputLayer)         [(None, 244)]             0         \n",
      "_________________________________________________________________\n",
      "embedding (Embedding)        (None, 244, 300)          197700    \n",
      "_________________________________________________________________\n",
      "dropout (Dropout)            (None, 244, 300)          0         \n",
      "_________________________________________________________________\n",
      "bidirectional (Bidirectional (None, 1000)              2406000   \n",
      "_________________________________________________________________\n",
      "dense (Dense)                (None, 1)                 1001      \n",
      "=================================================================\n",
      "Total params: 2,604,701\n",
      "Trainable params: 2,407,001\n",
      "Non-trainable params: 197,700\n",
      "_________________________________________________________________\n"
     ]
    }
   ],
   "source": [
    "inp = Input(shape=(X.shape[1], ))\n",
    "emb=Embedding(len(modEmbed.wv.vocab)+1 ,300,weights=[embedding_matrix],input_length=X.shape[1],trainable=False)(inp)\n",
    "d=Dropout(0.25)(emb)\n",
    "d=Bidirectional(GRU(500))(d)\n",
    "out=Dense(1,activation=\"linear\")(d)\n",
    "rnn = Model(inputs=inp, outputs=out)\n",
    "rnn.summary()\n"
   ]
  },
  {
   "cell_type": "code",
   "execution_count": null,
   "metadata": {
    "colab": {
     "base_uri": "https://localhost:8080/"
    },
    "id": "ApyHOC1UuTlp",
    "outputId": "734861a0-ac23-4a8f-81eb-5bf8a55bb969"
   },
   "outputs": [
    {
     "name": "stdout",
     "output_type": "stream",
     "text": [
      "Epoch 1/50\n",
      "368/368 [==============================] - 60s 75ms/step - loss: 3.1974 - metr: 3.1874 - val_loss: 0.8744 - val_metr: 0.3035\n",
      "Epoch 2/50\n",
      "368/368 [==============================] - 27s 74ms/step - loss: 0.9202 - metr: 0.4058 - val_loss: 0.8001 - val_metr: 0.3064\n",
      "Epoch 3/50\n",
      "368/368 [==============================] - 28s 76ms/step - loss: 0.8712 - metr: 0.2576 - val_loss: 0.8071 - val_metr: 0.1012\n",
      "Epoch 4/50\n",
      "368/368 [==============================] - 29s 78ms/step - loss: 0.8296 - metr: 0.1631 - val_loss: 0.8146 - val_metr: 0.4296\n",
      "Epoch 5/50\n",
      "368/368 [==============================] - 28s 77ms/step - loss: 0.8133 - metr: 0.0966 - val_loss: 0.8048 - val_metr: 0.0475\n",
      "Epoch 6/50\n",
      "368/368 [==============================] - 28s 77ms/step - loss: 0.8416 - metr: 0.0868 - val_loss: 0.7710 - val_metr: 0.0427\n",
      "Epoch 7/50\n",
      "368/368 [==============================] - 28s 77ms/step - loss: 0.8005 - metr: 0.0710 - val_loss: 0.7932 - val_metr: 0.1380\n",
      "Epoch 8/50\n",
      "368/368 [==============================] - 28s 77ms/step - loss: 0.7999 - metr: 0.1191 - val_loss: 0.8752 - val_metr: 0.1127\n",
      "Epoch 9/50\n",
      "368/368 [==============================] - 28s 77ms/step - loss: 0.7841 - metr: 0.0675 - val_loss: 0.7764 - val_metr: 0.0353\n",
      "Epoch 10/50\n",
      "368/368 [==============================] - 29s 78ms/step - loss: 0.8158 - metr: 0.0918 - val_loss: 0.7557 - val_metr: 0.0189\n",
      "Epoch 11/50\n",
      "368/368 [==============================] - 28s 77ms/step - loss: 0.7859 - metr: 0.0806 - val_loss: 0.8342 - val_metr: 0.1899\n",
      "Epoch 12/50\n",
      "368/368 [==============================] - 28s 77ms/step - loss: 0.8071 - metr: 0.0645 - val_loss: 0.7567 - val_metr: 0.1121\n",
      "Epoch 13/50\n",
      "368/368 [==============================] - 28s 77ms/step - loss: 0.8041 - metr: 0.0763 - val_loss: 0.7888 - val_metr: 0.0311\n",
      "Epoch 14/50\n",
      "368/368 [==============================] - 28s 77ms/step - loss: 0.7930 - metr: 0.0763 - val_loss: 0.8268 - val_metr: 0.1861\n",
      "Epoch 15/50\n",
      "368/368 [==============================] - 28s 77ms/step - loss: 0.8161 - metr: 0.0809 - val_loss: 0.8487 - val_metr: 0.1108\n"
     ]
    }
   ],
   "source": [
    "rnn.compile(loss='mse' ,optimizer=tf.optimizers.Adam(learning_rate=0.001),metrics=[metr])\n",
    "hist=rnn.fit(x=X_train,y=y_train,validation_data=(X_test,y_test),epochs=epochs, callbacks=[es])"
   ]
  },
  {
   "cell_type": "code",
   "execution_count": null,
   "metadata": {
    "colab": {
     "base_uri": "https://localhost:8080/",
     "height": 295
    },
    "id": "bJ7m31M0Q1In",
    "outputId": "03cc43dd-d4b4-4c0c-b1b1-d9578805ba9d"
   },
   "outputs": [
    {
     "data": {
      "image/png": "[encoded data removed]",
      "text/plain": [
       "<Figure size 1080x288 with 2 Axes>"
      ]
     },
     "metadata": {
      "needs_background": "light",
      "tags": []
     },
     "output_type": "display_data"
    }
   ],
   "source": [
    "fig = plt.figure(figsize=(15,4))\n",
    "ax1 = plt.subplot2grid((1,2),(0,0))\n",
    "ax1.plot(hist.history['metr'])\n",
    "ax1.plot(hist.history['loss'])\n",
    "ax1.set_title('Model training')\n",
    "ax1.set_ylabel('MSE')\n",
    "ax1.set_xlabel('epoch')\n",
    "ax1.legend(['Real', 'Log'], loc='upper left')\n",
    "\n",
    "ax1 = plt.subplot2grid((1,2),(0,1))\n",
    "ax1.plot(hist.history['val_metr'])\n",
    "ax1.plot(hist.history['val_loss'])\n",
    "ax1.set_title('Model validation')\n",
    "ax1.set_ylabel('MSE')\n",
    "ax1.set_xlabel('epoch')\n",
    "ax1.legend(['Real', 'Log'], loc='upper left')\n",
    "plt.show()"
   ]
  },
  {
   "cell_type": "code",
   "execution_count": null,
   "metadata": {
    "colab": {
     "base_uri": "https://localhost:8080/"
    },
    "id": "N2TAPouUrrKG",
    "outputId": "9b5c1a26-b899-45a5-a7cc-cfbf59e24d57"
   },
   "outputs": [
    {
     "name": "stdout",
     "output_type": "stream",
     "text": [
      "123/123 [==============================] - 4s 29ms/step - loss: 0.7557 - metr: 0.0189\n"
     ]
    },
    {
     "data": {
      "text/plain": [
       "[0.755744218826294, 0.018938438966870308]"
      ]
     },
     "execution_count": 13,
     "metadata": {
      "tags": []
     },
     "output_type": "execute_result"
    }
   ],
   "source": [
    "#check if the best weights been restored\n",
    "rnn.evaluate(X_test,y_test)"
   ]
  },
  {
   "cell_type": "code",
   "execution_count": null,
   "metadata": {
    "colab": {
     "base_uri": "https://localhost:8080/"
    },
    "id": "ASbVAYHDR2OI",
    "outputId": "3e15a094-5815-4d3a-b9d5-f80fb3eb3777"
   },
   "outputs": [
    {
     "name": "stdout",
     "output_type": "stream",
     "text": [
      "[[313]]\n"
     ]
    }
   ],
   "source": [
    "x=\" ping\"\n",
    "text= clean(x)\n",
    "text= extendedClean(text)\n",
    "tokenized=text.replace(\",\", \" , \").replace(\"(\",\" ( \").replace(\")\",\" ) \").replace(\"=\",\" = \")\n",
    "X=tokenizer.texts_to_sequences([tokenized])\n",
    "print(X)\n",
    "X = pad_sequences(X,244)\n"
   ]
  },
  {
   "cell_type": "code",
   "execution_count": null,
   "metadata": {
    "colab": {
     "base_uri": "https://localhost:8080/"
    },
    "id": "U9Kw2Q5Mck0k",
    "outputId": "199e8526-927d-47d7-d82c-f1ee94d2f72c"
   },
   "outputs": [
    {
     "data": {
      "text/plain": [
       "array([[2.7490347e-05]], dtype=float32)"
      ]
     },
     "execution_count": 15,
     "metadata": {
      "tags": []
     },
     "output_type": "execute_result"
    }
   ],
   "source": [
    "np.exp(rnn.predict(X))"
   ]
  },
  {
   "cell_type": "code",
   "execution_count": null,
   "metadata": {
    "colab": {
     "base_uri": "https://localhost:8080/",
     "height": 17
    },
    "id": "EhF1XGbuQMtm",
    "outputId": "70aee152-381e-4d1a-c0c7-768fce80f503"
   },
   "outputs": [
    {
     "data": {
      "application/javascript": [
       "\n",
       "    async function download(id, filename, size) {\n",
       "      if (!google.colab.kernel.accessAllowed) {\n",
       "        return;\n",
       "      }\n",
       "      const div = document.createElement('div');\n",
       "      const label = document.createElement('label');\n",
       "      label.textContent = `Downloading \"${filename}\": `;\n",
       "      div.appendChild(label);\n",
       "      const progress = document.createElement('progress');\n",
       "      progress.max = size;\n",
       "      div.appendChild(progress);\n",
       "      document.body.appendChild(div);\n",
       "\n",
       "      const buffers = [];\n",
       "      let downloaded = 0;\n",
       "\n",
       "      const channel = await google.colab.kernel.comms.open(id);\n",
       "      // Send a message to notify the kernel that we're ready.\n",
       "      channel.send({})\n",
       "\n",
       "      for await (const message of channel.messages) {\n",
       "        // Send a message to notify the kernel that we're ready.\n",
       "        channel.send({})\n",
       "        if (message.buffers) {\n",
       "          for (const buffer of message.buffers) {\n",
       "            buffers.push(buffer);\n",
       "            downloaded += buffer.byteLength;\n",
       "            progress.value = downloaded;\n",
       "          }\n",
       "        }\n",
       "      }\n",
       "      const blob = new Blob(buffers, {type: 'application/binary'});\n",
       "      const a = document.createElement('a');\n",
       "      a.href = window.URL.createObjectURL(blob);\n",
       "      a.download = filename;\n",
       "      div.appendChild(a);\n",
       "      a.click();\n",
       "      div.remove();\n",
       "    }\n",
       "  "
      ],
      "text/plain": [
       "<IPython.core.display.Javascript object>"
      ]
     },
     "metadata": {
      "tags": []
     },
     "output_type": "display_data"
    },
    {
     "data": {
      "application/javascript": [
       "download(\"download_defc9170-a68b-4c1f-94e1-a5bb46974180\", \"modelRnn.h5\", 29721608)"
      ],
      "text/plain": [
       "<IPython.core.display.Javascript object>"
      ]
     },
     "metadata": {
      "tags": []
     },
     "output_type": "display_data"
    },
    {
     "data": {
      "application/javascript": [
       "\n",
       "    async function download(id, filename, size) {\n",
       "      if (!google.colab.kernel.accessAllowed) {\n",
       "        return;\n",
       "      }\n",
       "      const div = document.createElement('div');\n",
       "      const label = document.createElement('label');\n",
       "      label.textContent = `Downloading \"${filename}\": `;\n",
       "      div.appendChild(label);\n",
       "      const progress = document.createElement('progress');\n",
       "      progress.max = size;\n",
       "      div.appendChild(progress);\n",
       "      document.body.appendChild(div);\n",
       "\n",
       "      const buffers = [];\n",
       "      let downloaded = 0;\n",
       "\n",
       "      const channel = await google.colab.kernel.comms.open(id);\n",
       "      // Send a message to notify the kernel that we're ready.\n",
       "      channel.send({})\n",
       "\n",
       "      for await (const message of channel.messages) {\n",
       "        // Send a message to notify the kernel that we're ready.\n",
       "        channel.send({})\n",
       "        if (message.buffers) {\n",
       "          for (const buffer of message.buffers) {\n",
       "            buffers.push(buffer);\n",
       "            downloaded += buffer.byteLength;\n",
       "            progress.value = downloaded;\n",
       "          }\n",
       "        }\n",
       "      }\n",
       "      const blob = new Blob(buffers, {type: 'application/binary'});\n",
       "      const a = document.createElement('a');\n",
       "      a.href = window.URL.createObjectURL(blob);\n",
       "      a.download = filename;\n",
       "      div.appendChild(a);\n",
       "      a.click();\n",
       "      div.remove();\n",
       "    }\n",
       "  "
      ],
      "text/plain": [
       "<IPython.core.display.Javascript object>"
      ]
     },
     "metadata": {
      "tags": []
     },
     "output_type": "display_data"
    },
    {
     "data": {
      "application/javascript": [
       "download(\"download_309ed495-8ea1-411f-96bd-e565605584b4\", \"tokenizer.pkl\", 24380)"
      ],
      "text/plain": [
       "<IPython.core.display.Javascript object>"
      ]
     },
     "metadata": {
      "tags": []
     },
     "output_type": "display_data"
    }
   ],
   "source": [
    "from google.colab import files\n",
    "\n",
    "rnn.save('modelRnn.h5')\n",
    "files.download('modelRnn.h5')\n",
    "dump(tokenizer, open('tokenizer.pkl', 'wb'))\n",
    "files.download('tokenizer.pkl')\n"
   ]
  },
  {
   "cell_type": "markdown",
   "metadata": {},
   "source": [
    "## Result\n",
    "\n",
    "#### Models Accuracy Log Transformation Applied\n",
    "\n",
    "SVR : 1,13<br>\n",
    "BERT: 1,15<br>\n",
    "RNN:  0,76<br>"
   ]
  },
  {
   "cell_type": "code",
   "execution_count": null,
   "metadata": {},
   "outputs": [],
   "source": []
  }
 ],
 "metadata": {
  "accelerator": "GPU",
  "colab": {
   "collapsed_sections": [],
   "name": "modelTrainig.ipynb",
   "provenance": [],
   "toc_visible": true
  },
  "kernelspec": {
   "display_name": "Python 3",
   "language": "python",
   "name": "python3"
  },
  "language_info": {
   "codemirror_mode": {
    "name": "ipython",
    "version": 3
   },
   "file_extension": ".py",
   "mimetype": "text/x-python",
   "name": "python",
   "nbconvert_exporter": "python",
   "pygments_lexer": "ipython3",
   "version": "3.8.3"
  }
 },
 "nbformat": 4,
 "nbformat_minor": 1
}
